{
 "cells": [
  {
   "cell_type": "code",
   "execution_count": 1,
   "metadata": {},
   "outputs": [],
   "source": [
    "model.obj = Objective(expr=sum(model.Y[i, j] for i in machines for j in products), sense=minimize)\n",
    "\n",
    "# Define constraints\n",
    "model.constraints = ConstraintList()\n",
    "\n",
    "# Each product must pass through machines sequentially\n",
    "for j in products:\n",
    "    for i in range(len(machines) - 1):\n",
    "        model.constraints.add(model.Y[i, j] <= model.X[i+1, j])\n",
    "\n",
    "# Time constraints for each task on each machine (not provided in the document, placeholders used)\n",
    "# You need to define these constraints based on the problem description\n",
    "\n",
    "# Display the decision variables, objective function, and constraints\n",
    "print(\"Decision Variables:\")\n",
    "print(\"Start time (X):\", model.X)\n",
    "print(\"Finish time (Y):\", model.Y)\n",
    "print(\"\\nObjective Function:\")\n",
    "print(model.obj)\n",
    "print(\"\\nConstraints:\")\n",
    "print(model.constraints)\n"
   ]
  },
  {
   "cell_type": "code",
   "execution_count": 45,
   "metadata": {},
   "outputs": [
    {
     "ename": "NameError",
     "evalue": "name 'ConstrantList' is not defined",
     "output_type": "error",
     "traceback": [
      "\u001b[1;31m---------------------------------------------------------------------------\u001b[0m",
      "\u001b[1;31mNameError\u001b[0m                                 Traceback (most recent call last)",
      "Cell \u001b[1;32mIn[45], line 61\u001b[0m\n\u001b[0;32m     58\u001b[0m model\u001b[38;5;241m.\u001b[39mobjective_linear\u001b[38;5;241m.\u001b[39madd(model\u001b[38;5;241m.\u001b[39mL \u001b[38;5;241m<\u001b[39m\u001b[38;5;241m=\u001b[39m model\u001b[38;5;241m.\u001b[39mY[\u001b[38;5;241m5\u001b[39m, \u001b[38;5;241m3\u001b[39m])\n\u001b[0;32m     60\u001b[0m \u001b[38;5;66;03m# ---------------------------------- X and Y --------------------------------- #\u001b[39;00m\n\u001b[1;32m---> 61\u001b[0m model\u001b[38;5;241m.\u001b[39mstart_and_end_time_relation \u001b[38;5;241m=\u001b[39m \u001b[43mConstrantList\u001b[49m()\n\u001b[0;32m     62\u001b[0m \u001b[38;5;28;01mfor\u001b[39;00m machine \u001b[38;5;129;01min\u001b[39;00m machines:\n\u001b[0;32m     63\u001b[0m     \u001b[38;5;28;01mfor\u001b[39;00m product \u001b[38;5;129;01min\u001b[39;00m products:\n",
      "\u001b[1;31mNameError\u001b[0m: name 'ConstrantList' is not defined"
     ]
    }
   ],
   "source": [
    "# ---------------------------------------------------------------------------- #\n",
    "#                              Import the modules                              #\n",
    "# ---------------------------------------------------------------------------- #\n",
    "import pandas as pd\n",
    "from pyomo.environ import *\n",
    "\n",
    "# ---------------------------------------------------------------------------- #\n",
    "#                             Initialize the MODEL                             #\n",
    "# ---------------------------------------------------------------------------- #\n",
    "model = ConcreteModel()\n",
    "\n",
    "machines = [1, 2, 3, 4, 5]\n",
    "products = [1, 2, 3]\n",
    "products_dict = {1:\"A\",2:\"B\",3:\"C\"}\n",
    "\n",
    "# ---------------------------------------------------------------------------- #\n",
    "#                                Define the SETS                               #\n",
    "# ---------------------------------------------------------------------------- #\n",
    "model.machines = machines\n",
    "model.products = products\n",
    "\n",
    "# ---------------------------------------------------------------------------- #\n",
    "#                             Define the VARIABLES                             #\n",
    "# ---------------------------------------------------------------------------- #\n",
    "\n",
    "model.X = Var(model.machines, model.products, within=NonNegativeReals)\n",
    "model.Y = Var(model.machines, model.products, within=NonNegativeReals)\n",
    "model.P = Var(within=Binary)\n",
    "model.F1 = Var(within=Binary)\n",
    "model.F2 = Var(within=Binary)\n",
    "model.F3 = Var(within=Binary)\n",
    "model.G = Var(within=Binary)\n",
    "model.K = Var(within=Binary)\n",
    "model.L = Var(within=NonNegativeReals)\n",
    "\n",
    "# ---------------------------------------------------------------------------- #\n",
    "#                         Define the OBJECTIVE FUNCTION                        #\n",
    "# ---------------------------------------------------------------------------- #\n",
    "model.objective = Objective(expr=model.L, sense=minimize)\n",
    "\n",
    "# ---------------------------------------------------------------------------- #\n",
    "#                               Define the PARAMS                              #\n",
    "# ---------------------------------------------------------------------------- #\n",
    "times = pd.read_excel('Time Data.xlsx', index_col=0)\n",
    "\n",
    "\n",
    "model.A = Param(model.machines, initialize=times.loc[:,f'Product {products_dict[1]}'].to_dict().values())\n",
    "model.B = Param(model.machines, initialize=times.loc[:,f'Product {products_dict[2]}'].to_dict().values())\n",
    "model.C = Param(model.machines, initialize=times.loc[:,f'Product {products_dict[3]}'].to_dict().values())\n",
    "\n",
    "# ----------------------------------- Big M ---------------------------------- #\n",
    "model.M = 1e6\n",
    "\n",
    "# ---------------------------------------------------------------------------- #\n",
    "#                            Define the CONSTRAINTS                            #\n",
    "# ---------------------------------------------------------------------------- #\n",
    "\n",
    "# -------------------- Linearazation of objective function ------------------- #\n",
    "model.objective_linear = ConstraintList()\n",
    "model.objective_linear.add(model.L <= model.Y[4, 1])\n",
    "model.objective_linear.add(model.L <= model.Y[5, 2])\n",
    "model.objective_linear.add(model.L <= model.Y[5, 3])\n",
    "\n",
    "# ---------------------------------- X and Y --------------------------------- #\n",
    "model.start_and_end_time_relation = ConstraintList()\n",
    "for machine in machines:\n",
    "    for product in products:\n",
    "        model.start_and_end_time_relation.add(model.Y[i, j] >= model.X[i, j])\n",
    "        model.start_and_end_time_relation.add(model.X[machine, product] + model[product] == model.Y[machine, product])\n",
    "\n",
    "# ----------- Each product must pass through machines sequentially ----------- #\n",
    "model.sequential = ConstraintList()\n",
    "for j in products:\n",
    "    for i in range(len(machines) - 1):\n",
    "        model.sequential.add(model.Y[i, j] <= model.X[i+1, j])\n",
    "model.sequential.add(model.Y[4, 1] <= 60)\n",
    "model.sequential.add(model.Y[5, 2] <= model[5,3] + 15)\n",
    "\n",
    "\n",
    "# --------------------- Machines can do something at once -------------------- #\n",
    "\n",
    "# Precedence constraints based on binary variables\n",
    "model.precedence_constraints = ConstraintList()\n",
    "model.precedence_constraints.add(expr=model.P + model.F1 <= 1)\n",
    "model.precedence_constraints.add(expr=model.P + model.F2 <= 1)\n",
    "model.precedence_constraints.add(expr=model.P + model.F3 <= 1)\n",
    "\n",
    "# Solve the model\n",
    "solver = SolverFactory('clex')\n",
    "solver.solve(model)\n",
    "\n"
   ]
  },
  {
   "cell_type": "code",
   "execution_count": 20,
   "metadata": {},
   "outputs": [
    {
     "data": {
      "text/plain": [
       "dict_values([10, 6, 12, 22, 0])"
      ]
     },
     "execution_count": 20,
     "metadata": {},
     "output_type": "execute_result"
    }
   ],
   "source": [
    "times = pd.read_excel('Time Data.xlsx', index_col=0)\n",
    "times.loc[:,\"Product A\"].to_dict().values()"
   ]
  },
  {
   "cell_type": "code",
   "execution_count": 46,
   "metadata": {},
   "outputs": [
    {
     "data": {
      "text/plain": [
       "1000000.0"
      ]
     },
     "execution_count": 46,
     "metadata": {},
     "output_type": "execute_result"
    }
   ],
   "source": [
    "1e6"
   ]
  },
  {
   "cell_type": "code",
   "execution_count": null,
   "metadata": {},
   "outputs": [],
   "source": []
  }
 ],
 "metadata": {
  "kernelspec": {
   "display_name": "Python 3",
   "language": "python",
   "name": "python3"
  },
  "language_info": {
   "codemirror_mode": {
    "name": "ipython",
    "version": 3
   },
   "file_extension": ".py",
   "mimetype": "text/x-python",
   "name": "python",
   "nbconvert_exporter": "python",
   "pygments_lexer": "ipython3",
   "version": "3.11.2"
  }
 },
 "nbformat": 4,
 "nbformat_minor": 2
}
